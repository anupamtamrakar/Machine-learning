{
  "nbformat": 4,
  "nbformat_minor": 0,
  "metadata": {
    "colab": {
      "name": "Keras CIFAR10.ipynb",
      "version": "0.3.2",
      "provenance": [],
      "collapsed_sections": [],
      "include_colab_link": true
    },
    "kernelspec": {
      "name": "python3",
      "display_name": "Python 3"
    },
    "accelerator": "GPU"
  },
  "cells": [
    {
      "cell_type": "markdown",
      "metadata": {
        "id": "view-in-github",
        "colab_type": "text"
      },
      "source": [
        "<a href=\"https://colab.research.google.com/github/anupamtamrakar/Machine-learning/blob/master/Keras_CIFAR10.ipynb\" target=\"_parent\"><img src=\"https://colab.research.google.com/assets/colab-badge.svg\" alt=\"Open In Colab\"/></a>"
      ]
    },
    {
      "metadata": {
        "id": "RjUYvnGQ_z9c",
        "colab_type": "code",
        "colab": {}
      },
      "cell_type": "code",
      "source": [
        "from keras.datasets import cifar10\n",
        "from keras.models import Sequential\n",
        "from keras.layers import Dense, Activation,Dropout,Conv2D,Flatten,BatchNormalization\n",
        "from keras.utils import to_categorical\n",
        "import numpy as np\n",
        "import pandas as pd\n",
        "import matplotlib.pyplot as plt\n",
        "\n",
        "%matplotlib inline"
      ],
      "execution_count": 0,
      "outputs": []
    },
    {
      "metadata": {
        "id": "gXz5cbT4__Zf",
        "colab_type": "code",
        "colab": {}
      },
      "cell_type": "code",
      "source": [
        "(x_train, y_train), (x_test, y_test) = cifar10.load_data()"
      ],
      "execution_count": 0,
      "outputs": []
    },
    {
      "metadata": {
        "id": "YHsUafC9AM_6",
        "colab_type": "code",
        "colab": {
          "base_uri": "https://localhost:8080/",
          "height": 92
        },
        "outputId": "2f7e1d78-14a1-443f-eb0b-15bdc822c82e"
      },
      "cell_type": "code",
      "source": [
        "print(\"Shape of x_train: \" + str(x_train.shape))\n",
        "print(\"Shape of x_test: \" + str(x_test.shape))\n",
        "print(\"Shape of y_test: \" + str(y_test.shape))\n",
        "print(\"Shape of y_train: \" + str(y_train.shape))"
      ],
      "execution_count": 103,
      "outputs": [
        {
          "output_type": "stream",
          "text": [
            "Shape of x_train: (50000, 32, 32, 3)\n",
            "Shape of x_test: (10000, 32, 32, 3)\n",
            "Shape of y_test: (10000, 1)\n",
            "Shape of y_train: (50000, 1)\n"
          ],
          "name": "stdout"
        }
      ]
    },
    {
      "metadata": {
        "id": "--kN69hhArmZ",
        "colab_type": "code",
        "colab": {}
      },
      "cell_type": "code",
      "source": [
        "#x_train = x_train / 255\n",
        "#x_test = x_test / 255"
      ],
      "execution_count": 0,
      "outputs": []
    },
    {
      "metadata": {
        "id": "Hln7DwGWBgKh",
        "colab_type": "code",
        "colab": {}
      },
      "cell_type": "code",
      "source": [
        "#x_train = x_train.reshape(50000,3072)\n",
        "#x_test = x_test.reshape(10000,3072)\n",
        "one_hot_labels = to_categorical(y_train, num_classes=10)"
      ],
      "execution_count": 0,
      "outputs": []
    },
    {
      "metadata": {
        "id": "h92XbP_iBiTy",
        "colab_type": "code",
        "colab": {}
      },
      "cell_type": "code",
      "source": [
        "model = Sequential()"
      ],
      "execution_count": 0,
      "outputs": []
    },
    {
      "metadata": {
        "id": "ddO6DOyxCZPo",
        "colab_type": "code",
        "colab": {}
      },
      "cell_type": "code",
      "source": [
        "model.add(Conv2D(input_shape=x_train[0,:,:,:].shape, filters=96, kernel_size=(3,3)))\n",
        "model.add(Activation('relu'))\n",
        "model.add(Conv2D(filters=96, kernel_size=(3,3), strides=2))\n",
        "model.add(Activation('relu'))\n",
        "model.add(Dropout(0.2))\n",
        "model.add(Conv2D(filters=192, kernel_size=(3,3)))\n",
        "model.add(Activation('relu'))\n",
        "model.add(Conv2D(filters=192, kernel_size=(3,3), strides=2))\n",
        "model.add(Activation('relu'))\n",
        "model.add(Dropout(0.5))\n",
        "model.add(Flatten())\n",
        "model.add(BatchNormalization())\n",
        "model.add(Dense(256))\n",
        "model.add(Activation('relu'))\n",
        "model.add(Dense(10, activation=\"softmax\"))"
      ],
      "execution_count": 0,
      "outputs": []
    },
    {
      "metadata": {
        "id": "RLpt0VbaDOpz",
        "colab_type": "code",
        "colab": {}
      },
      "cell_type": "code",
      "source": [
        "model.compile('Adam',loss='categorical_crossentropy',metrics=['accuracy'])"
      ],
      "execution_count": 0,
      "outputs": []
    },
    {
      "metadata": {
        "id": "VwKfwZhQDQLo",
        "colab_type": "code",
        "colab": {
          "base_uri": "https://localhost:8080/",
          "height": 784
        },
        "outputId": "f8358bc2-8452-4c90-d301-9710daa88eb5"
      },
      "cell_type": "code",
      "source": [
        "model.fit(x=x_train,y=one_hot_labels,batch_size=256,epochs=20,shuffle=True)"
      ],
      "execution_count": 109,
      "outputs": [
        {
          "output_type": "stream",
          "text": [
            "Epoch 1/20\n",
            "50000/50000 [==============================] - 22s 438us/step - loss: 1.8443 - acc: 0.3471\n",
            "Epoch 2/20\n",
            "50000/50000 [==============================] - 19s 378us/step - loss: 1.3620 - acc: 0.5077\n",
            "Epoch 3/20\n",
            "50000/50000 [==============================] - 19s 390us/step - loss: 1.1802 - acc: 0.5790\n",
            "Epoch 4/20\n",
            "50000/50000 [==============================] - 20s 394us/step - loss: 1.0340 - acc: 0.6327\n",
            "Epoch 5/20\n",
            "50000/50000 [==============================] - 20s 395us/step - loss: 0.9272 - acc: 0.6733\n",
            "Epoch 6/20\n",
            "50000/50000 [==============================] - 20s 398us/step - loss: 0.8430 - acc: 0.7028\n",
            "Epoch 7/20\n",
            "50000/50000 [==============================] - 20s 407us/step - loss: 0.7707 - acc: 0.7272\n",
            "Epoch 8/20\n",
            "50000/50000 [==============================] - 20s 407us/step - loss: 0.7020 - acc: 0.7528\n",
            "Epoch 9/20\n",
            "50000/50000 [==============================] - 19s 380us/step - loss: 0.6431 - acc: 0.7728\n",
            "Epoch 10/20\n",
            "50000/50000 [==============================] - 19s 374us/step - loss: 0.5883 - acc: 0.7909\n",
            "Epoch 11/20\n",
            "50000/50000 [==============================] - 19s 374us/step - loss: 0.5504 - acc: 0.8049\n",
            "Epoch 12/20\n",
            "50000/50000 [==============================] - 19s 375us/step - loss: 0.5048 - acc: 0.8212\n",
            "Epoch 13/20\n",
            "50000/50000 [==============================] - 19s 374us/step - loss: 0.4698 - acc: 0.8325\n",
            "Epoch 14/20\n",
            "50000/50000 [==============================] - 19s 376us/step - loss: 0.4402 - acc: 0.8444\n",
            "Epoch 15/20\n",
            "50000/50000 [==============================] - 19s 375us/step - loss: 0.4099 - acc: 0.8550\n",
            "Epoch 16/20\n",
            "50000/50000 [==============================] - 19s 375us/step - loss: 0.3847 - acc: 0.8632\n",
            "Epoch 17/20\n",
            "50000/50000 [==============================] - 19s 376us/step - loss: 0.3538 - acc: 0.8728\n",
            "Epoch 18/20\n",
            "50000/50000 [==============================] - 19s 376us/step - loss: 0.3396 - acc: 0.8792\n",
            "Epoch 19/20\n",
            "50000/50000 [==============================] - 19s 373us/step - loss: 0.3192 - acc: 0.8868\n",
            "Epoch 20/20\n",
            "50000/50000 [==============================] - 19s 374us/step - loss: 0.3071 - acc: 0.8924\n"
          ],
          "name": "stdout"
        },
        {
          "output_type": "execute_result",
          "data": {
            "text/plain": [
              "<keras.callbacks.History at 0x7f7128b30da0>"
            ]
          },
          "metadata": {
            "tags": []
          },
          "execution_count": 109
        }
      ]
    },
    {
      "metadata": {
        "id": "hu1-pSmuLYvZ",
        "colab_type": "code",
        "colab": {}
      },
      "cell_type": "code",
      "source": [
        "one_hot_labels_test = to_categorical(y_test, num_classes=10)"
      ],
      "execution_count": 0,
      "outputs": []
    },
    {
      "metadata": {
        "id": "HnHwylFOEIRm",
        "colab_type": "code",
        "colab": {
          "base_uri": "https://localhost:8080/",
          "height": 54
        },
        "outputId": "45754806-8ded-4de0-9ffa-94d75bae561d"
      },
      "cell_type": "code",
      "source": [
        "model.evaluate(x=x_test,y=one_hot_labels_test,batch_size=32,verbose=1)"
      ],
      "execution_count": 111,
      "outputs": [
        {
          "output_type": "stream",
          "text": [
            "10000/10000 [==============================] - 2s 244us/step\n"
          ],
          "name": "stdout"
        },
        {
          "output_type": "execute_result",
          "data": {
            "text/plain": [
              "[0.7665724459648132, 0.7652]"
            ]
          },
          "metadata": {
            "tags": []
          },
          "execution_count": 111
        }
      ]
    },
    {
      "metadata": {
        "id": "rcOMH9AqHCA7",
        "colab_type": "code",
        "colab": {}
      },
      "cell_type": "code",
      "source": [
        "predictions = model.predict(x=x_test,batch_size=32)"
      ],
      "execution_count": 0,
      "outputs": []
    },
    {
      "metadata": {
        "id": "UFagg1pRMZ8U",
        "colab_type": "code",
        "colab": {}
      },
      "cell_type": "code",
      "source": [
        "preds = np.argmax(predictions,axis=1)\n",
        "corr = preds == y_test"
      ],
      "execution_count": 0,
      "outputs": []
    },
    {
      "metadata": {
        "id": "3788UvTbMbZ4",
        "colab_type": "code",
        "colab": {
          "base_uri": "https://localhost:8080/",
          "height": 285
        },
        "outputId": "b8f116c0-83fb-44d7-d1c5-0ae869f7c5b3"
      },
      "cell_type": "code",
      "source": [
        "index = 9\n",
        "plt.imshow(x_test[index])\n",
        "print(\"Acutual: {}, Prediction: {}\".format(y_test[index],preds[index]))"
      ],
      "execution_count": 119,
      "outputs": [
        {
          "output_type": "stream",
          "text": [
            "Acutual: [1], Prediction: 9\n"
          ],
          "name": "stdout"
        },
        {
          "output_type": "display_data",
          "data": {
            "image/png": "[encoded data removed]",
            "text/plain": [
              "<Figure size 432x288 with 1 Axes>"
            ]
          },
          "metadata": {
            "tags": []
          }
        }
      ]
    },
    {
      "metadata": {
        "id": "mVQyfhCONWVx",
        "colab_type": "code",
        "colab": {
          "base_uri": "https://localhost:8080/",
          "height": 1374
        },
        "outputId": "941bf83c-2f5a-4303-a916-ee82f4bb51e4"
      },
      "cell_type": "code",
      "source": [
        "print(\"Correct Predictions\")\n",
        "count = 0;\n",
        "for i in range(len(x_test)):\n",
        "  if(preds[i]==y_test[i]):\n",
        "    plt.imshow(x_test[i])\n",
        "    count +=1\n",
        "    print(\"Acutual: {}, Prediction: {}\".format(y_test[i],preds[i]))\n",
        "    plt.show()"
      ],
      "execution_count": 122,
      "outputs": [
        {
          "output_type": "stream",
          "text": [
            "Correct Predictions\n",
            "Acutual: [3], Prediction: 3\n"
          ],
          "name": "stdout"
        },
        {
          "output_type": "display_data",
          "data": {
            "image/png": "[encoded data removed]",
            "text/plain": [
              "<Figure size 432x288 with 1 Axes>"
            ]
          },
          "metadata": {
            "tags": []
          }
        },
        {
          "output_type": "stream",
          "text": [
            "Acutual: [8], Prediction: 8\n"
          ],
          "name": "stdout"
        },
        {
          "output_type": "display_data",
          "data": {
            "image/png": "[encoded data removed]",
            "text/plain": [
              "<Figure size 432x288 with 1 Axes>"
            ]
          },
          "metadata": {
            "tags": []
          }
        },
        {
          "output_type": "stream",
          "text": [
            "Acutual: [8], Prediction: 8\n"
          ],
          "name": "stdout"
        },
        {
          "output_type": "display_data",
          "data": {
            "image/png": "[encoded data removed]",
            "text/plain": [
              "<Figure size 432x288 with 1 Axes>"
            ]
          },
          "metadata": {
            "tags": []
          }
        },
        {
          "output_type": "stream",
          "text": [
            "Acutual: [0], Prediction: 0\n"
          ],
          "name": "stdout"
        },
        {
          "output_type": "display_data",
          "data": {
            "image/png": "[encoded data removed]",
            "text/plain": [
              "<Figure size 432x288 with 1 Axes>"
            ]
          },
          "metadata": {
            "tags": []
          }
        },
        {
          "output_type": "stream",
          "text": [
            "Acutual: [6], Prediction: 6\n"
          ],
          "name": "stdout"
        },
        {
          "output_type": "display_data",
          "data": {
            "image/png": "[encoded data removed]",
            "text/plain": [
              "<Figure size 432x288 with 1 Axes>"
            ]
          },
          "metadata": {
            "tags": []
          }
        }
      ]
    },
    {
      "metadata": {
        "id": "8m7SaCMIOkor",
        "colab_type": "code",
        "colab": {
          "base_uri": "https://localhost:8080/",
          "height": 709
        },
        "outputId": "0467e35e-904e-4b26-ad1d-7dd553ae426d"
      },
      "cell_type": "code",
      "source": [
        "model.summary()"
      ],
      "execution_count": 118,
      "outputs": [
        {
          "output_type": "stream",
          "text": [
            "_________________________________________________________________\n",
            "Layer (type)                 Output Shape              Param #   \n",
            "=================================================================\n",
            "conv2d_2 (Conv2D)            (None, 30, 30, 96)        2688      \n",
            "_________________________________________________________________\n",
            "activation_1 (Activation)    (None, 30, 30, 96)        0         \n",
            "_________________________________________________________________\n",
            "conv2d_3 (Conv2D)            (None, 14, 14, 96)        83040     \n",
            "_________________________________________________________________\n",
            "activation_2 (Activation)    (None, 14, 14, 96)        0         \n",
            "_________________________________________________________________\n",
            "dropout_2 (Dropout)          (None, 14, 14, 96)        0         \n",
            "_________________________________________________________________\n",
            "conv2d_4 (Conv2D)            (None, 12, 12, 192)       166080    \n",
            "_________________________________________________________________\n",
            "activation_3 (Activation)    (None, 12, 12, 192)       0         \n",
            "_________________________________________________________________\n",
            "conv2d_5 (Conv2D)            (None, 5, 5, 192)         331968    \n",
            "_________________________________________________________________\n",
            "activation_4 (Activation)    (None, 5, 5, 192)         0         \n",
            "_________________________________________________________________\n",
            "dropout_3 (Dropout)          (None, 5, 5, 192)         0         \n",
            "_________________________________________________________________\n",
            "flatten_1 (Flatten)          (None, 4800)              0         \n",
            "_________________________________________________________________\n",
            "batch_normalization_1 (Batch (None, 4800)              19200     \n",
            "_________________________________________________________________\n",
            "dense_42 (Dense)             (None, 256)               1229056   \n",
            "_________________________________________________________________\n",
            "activation_5 (Activation)    (None, 256)               0         \n",
            "_________________________________________________________________\n",
            "dense_43 (Dense)             (None, 10)                2570      \n",
            "=================================================================\n",
            "Total params: 1,834,602\n",
            "Trainable params: 1,825,002\n",
            "Non-trainable params: 9,600\n",
            "_________________________________________________________________\n"
          ],
          "name": "stdout"
        }
      ]
    },
    {
      "metadata": {
        "id": "SaC8Ep6FSMqc",
        "colab_type": "code",
        "colab": {}
      },
      "cell_type": "code",
      "source": [
        ""
      ],
      "execution_count": 0,
      "outputs": []
    }
  ]
}