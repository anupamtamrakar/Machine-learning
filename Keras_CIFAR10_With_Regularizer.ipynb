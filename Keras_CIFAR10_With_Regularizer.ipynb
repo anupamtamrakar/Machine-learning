{
  "nbformat": 4,
  "nbformat_minor": 0,
  "metadata": {
    "colab": {
      "name": "Keras CIFAR10 With Regularizer.ipynb",
      "version": "0.3.2",
      "provenance": [],
      "collapsed_sections": [],
      "include_colab_link": true
    },
    "kernelspec": {
      "name": "python3",
      "display_name": "Python 3"
    },
    "accelerator": "GPU"
  },
  "cells": [
    {
      "cell_type": "markdown",
      "metadata": {
        "id": "view-in-github",
        "colab_type": "text"
      },
      "source": [
        "<a href=\"https://colab.research.google.com/github/anupamtamrakar/Machine-learning/blob/master/Keras_CIFAR10_With_Regularizer.ipynb\" target=\"_parent\"><img src=\"https://colab.research.google.com/assets/colab-badge.svg\" alt=\"Open In Colab\"/></a>"
      ]
    },
    {
      "metadata": {
        "id": "RjUYvnGQ_z9c",
        "colab_type": "code",
        "colab": {
          "base_uri": "https://localhost:8080/",
          "height": 36
        },
        "outputId": "a267125d-f73d-490a-bc27-0e5b17df3390"
      },
      "cell_type": "code",
      "source": [
        "from keras.datasets import cifar10\n",
        "from keras.models import Sequential\n",
        "from keras.layers import Dense, Activation,Dropout,Conv2D,Flatten,BatchNormalization\n",
        "from keras.utils import to_categorical\n",
        "from keras.regularizers import l2\n",
        "import numpy as np\n",
        "import pandas as pd\n",
        "import matplotlib.pyplot as plt\n",
        "\n",
        "%matplotlib inline"
      ],
      "execution_count": 1,
      "outputs": [
        {
          "output_type": "stream",
          "text": [
            "Using TensorFlow backend.\n"
          ],
          "name": "stderr"
        }
      ]
    },
    {
      "metadata": {
        "id": "gXz5cbT4__Zf",
        "colab_type": "code",
        "colab": {}
      },
      "cell_type": "code",
      "source": [
        "(x_train, y_train), (x_test, y_test) = cifar10.load_data()"
      ],
      "execution_count": 0,
      "outputs": []
    },
    {
      "metadata": {
        "id": "YHsUafC9AM_6",
        "colab_type": "code",
        "outputId": "4fd7ed36-9b4b-46d2-8480-dc0e61241831",
        "colab": {
          "base_uri": "https://localhost:8080/",
          "height": 92
        }
      },
      "cell_type": "code",
      "source": [
        "print(\"Shape of x_train: \" + str(x_train.shape))\n",
        "print(\"Shape of x_test: \" + str(x_test.shape))\n",
        "print(\"Shape of y_test: \" + str(y_test.shape))\n",
        "print(\"Shape of y_train: \" + str(y_train.shape))"
      ],
      "execution_count": 3,
      "outputs": [
        {
          "output_type": "stream",
          "text": [
            "Shape of x_train: (50000, 32, 32, 3)\n",
            "Shape of x_test: (10000, 32, 32, 3)\n",
            "Shape of y_test: (10000, 1)\n",
            "Shape of y_train: (50000, 1)\n"
          ],
          "name": "stdout"
        }
      ]
    },
    {
      "metadata": {
        "id": "--kN69hhArmZ",
        "colab_type": "code",
        "colab": {}
      },
      "cell_type": "code",
      "source": [
        "#x_train = x_train / 255\n",
        "#x_test = x_test / 255"
      ],
      "execution_count": 0,
      "outputs": []
    },
    {
      "metadata": {
        "id": "Hln7DwGWBgKh",
        "colab_type": "code",
        "colab": {}
      },
      "cell_type": "code",
      "source": [
        "#x_train = x_train.reshape(50000,3072)\n",
        "#x_test = x_test.reshape(10000,3072)\n",
        "one_hot_labels = to_categorical(y_train, num_classes=10)"
      ],
      "execution_count": 0,
      "outputs": []
    },
    {
      "metadata": {
        "id": "h92XbP_iBiTy",
        "colab_type": "code",
        "colab": {}
      },
      "cell_type": "code",
      "source": [
        "model = Sequential()\n",
        "regularizer = l2(0.0001)"
      ],
      "execution_count": 0,
      "outputs": []
    },
    {
      "metadata": {
        "id": "ddO6DOyxCZPo",
        "colab_type": "code",
        "colab": {}
      },
      "cell_type": "code",
      "source": [
        "model.add(Conv2D(input_shape=x_train[0,:,:,:].shape, filters=96, kernel_size=(3,3)))\n",
        "model.add(Activation('relu'))\n",
        "model.add(Conv2D(filters=96, kernel_size=(3,3), strides=2,kernel_regularizer=regularizer))\n",
        "model.add(Activation('relu'))\n",
        "model.add(Dropout(0.2))\n",
        "model.add(Conv2D(filters=192, kernel_size=(3,3),kernel_regularizer=regularizer))\n",
        "model.add(Activation('relu'))\n",
        "\n",
        "model.add(Dropout(0.5))\n",
        "model.add(Flatten())\n",
        "model.add(BatchNormalization())\n",
        "model.add(Dense(256))\n",
        "model.add(Activation('relu'))\n",
        "model.add(Dense(10, activation=\"softmax\"))"
      ],
      "execution_count": 0,
      "outputs": []
    },
    {
      "metadata": {
        "id": "RLpt0VbaDOpz",
        "colab_type": "code",
        "colab": {}
      },
      "cell_type": "code",
      "source": [
        "model.compile('Adam',loss='categorical_crossentropy',metrics=['accuracy'])"
      ],
      "execution_count": 0,
      "outputs": []
    },
    {
      "metadata": {
        "id": "VwKfwZhQDQLo",
        "colab_type": "code",
        "outputId": "c0d332f7-01af-4f92-c4e4-54887c671989",
        "colab": {
          "base_uri": "https://localhost:8080/",
          "height": 784
        }
      },
      "cell_type": "code",
      "source": [
        "model.fit(x=x_train,y=one_hot_labels,batch_size=256,epochs=20,shuffle=True)"
      ],
      "execution_count": 25,
      "outputs": [
        {
          "output_type": "stream",
          "text": [
            "Epoch 1/20\n",
            "50000/50000 [==============================] - 38s 756us/step - loss: 1.8449 - acc: 0.4112\n",
            "Epoch 2/20\n",
            "50000/50000 [==============================] - 36s 722us/step - loss: 1.2136 - acc: 0.5760\n",
            "Epoch 3/20\n",
            "50000/50000 [==============================] - 36s 718us/step - loss: 1.0057 - acc: 0.6510\n",
            "Epoch 4/20\n",
            "50000/50000 [==============================] - 36s 716us/step - loss: 0.8506 - acc: 0.7086\n",
            "Epoch 5/20\n",
            "50000/50000 [==============================] - 36s 722us/step - loss: 0.7144 - acc: 0.7578\n",
            "Epoch 6/20\n",
            "50000/50000 [==============================] - 36s 722us/step - loss: 0.5981 - acc: 0.7969\n",
            "Epoch 7/20\n",
            "50000/50000 [==============================] - 22s 431us/step - loss: 0.5067 - acc: 0.8277\n",
            "Epoch 8/20\n",
            "50000/50000 [==============================] - 19s 376us/step - loss: 0.4460 - acc: 0.8514\n",
            "Epoch 9/20\n",
            "50000/50000 [==============================] - 19s 375us/step - loss: 0.3699 - acc: 0.8787\n",
            "Epoch 10/20\n",
            "50000/50000 [==============================] - 19s 376us/step - loss: 0.3284 - acc: 0.8944\n",
            "Epoch 11/20\n",
            "50000/50000 [==============================] - 19s 376us/step - loss: 0.2876 - acc: 0.9077\n",
            "Epoch 12/20\n",
            "50000/50000 [==============================] - 19s 375us/step - loss: 0.2537 - acc: 0.9210\n",
            "Epoch 13/20\n",
            "50000/50000 [==============================] - 19s 378us/step - loss: 0.2234 - acc: 0.9326\n",
            "Epoch 14/20\n",
            "50000/50000 [==============================] - 32s 637us/step - loss: 0.2153 - acc: 0.9373\n",
            "Epoch 15/20\n",
            "50000/50000 [==============================] - 36s 714us/step - loss: 0.2021 - acc: 0.9422\n",
            "Epoch 16/20\n",
            "50000/50000 [==============================] - 36s 713us/step - loss: 0.1953 - acc: 0.9445\n",
            "Epoch 17/20\n",
            "50000/50000 [==============================] - 36s 716us/step - loss: 0.1885 - acc: 0.9483\n",
            "Epoch 18/20\n",
            "50000/50000 [==============================] - 36s 713us/step - loss: 0.1746 - acc: 0.9530\n",
            "Epoch 19/20\n",
            "50000/50000 [==============================] - 36s 715us/step - loss: 0.1702 - acc: 0.9552\n",
            "Epoch 20/20\n",
            "50000/50000 [==============================] - 36s 718us/step - loss: 0.1705 - acc: 0.9558\n"
          ],
          "name": "stdout"
        },
        {
          "output_type": "execute_result",
          "data": {
            "text/plain": [
              "<keras.callbacks.History at 0x7fd0f21bed68>"
            ]
          },
          "metadata": {
            "tags": []
          },
          "execution_count": 25
        }
      ]
    },
    {
      "metadata": {
        "id": "hu1-pSmuLYvZ",
        "colab_type": "code",
        "colab": {}
      },
      "cell_type": "code",
      "source": [
        "one_hot_labels_test = to_categorical(y_test, num_classes=10)"
      ],
      "execution_count": 0,
      "outputs": []
    },
    {
      "metadata": {
        "id": "HnHwylFOEIRm",
        "colab_type": "code",
        "outputId": "99114f1c-4d9b-41ee-ddd6-b3fa663c7c7d",
        "colab": {
          "base_uri": "https://localhost:8080/",
          "height": 54
        }
      },
      "cell_type": "code",
      "source": [
        "model.evaluate(x=x_test,y=one_hot_labels_test,batch_size=32,verbose=1)"
      ],
      "execution_count": 27,
      "outputs": [
        {
          "output_type": "stream",
          "text": [
            "10000/10000 [==============================] - 5s 522us/step\n"
          ],
          "name": "stdout"
        },
        {
          "output_type": "execute_result",
          "data": {
            "text/plain": [
              "[1.441059004688263, 0.72]"
            ]
          },
          "metadata": {
            "tags": []
          },
          "execution_count": 27
        }
      ]
    },
    {
      "metadata": {
        "id": "rcOMH9AqHCA7",
        "colab_type": "code",
        "colab": {}
      },
      "cell_type": "code",
      "source": [
        "predictions = model.predict(x=x_test,batch_size=32)"
      ],
      "execution_count": 0,
      "outputs": []
    },
    {
      "metadata": {
        "id": "UFagg1pRMZ8U",
        "colab_type": "code",
        "colab": {}
      },
      "cell_type": "code",
      "source": [
        "preds = np.argmax(predictions,axis=1)\n",
        "corr = preds == y_test"
      ],
      "execution_count": 0,
      "outputs": []
    },
    {
      "metadata": {
        "id": "3788UvTbMbZ4",
        "colab_type": "code",
        "outputId": "c80766ca-4c4e-4c3e-ee9d-92c4ce7d36e9",
        "colab": {
          "base_uri": "https://localhost:8080/",
          "height": 285
        }
      },
      "cell_type": "code",
      "source": [
        "index = 568\n",
        "plt.imshow(x_test[index])\n",
        "print(\"Acutual: {}, Prediction: {}\".format(y_test[index],preds[index]))"
      ],
      "execution_count": 35,
      "outputs": [
        {
          "output_type": "stream",
          "text": [
            "Acutual: [9], Prediction: 9\n"
          ],
          "name": "stdout"
        },
        {
          "output_type": "display_data",
          "data": {
            "image/png": "[encoded data removed]",
            "text/plain": [
              "<Figure size 432x288 with 1 Axes>"
            ]
          },
          "metadata": {
            "tags": []
          }
        }
      ]
    },
    {
      "metadata": {
        "id": "mVQyfhCONWVx",
        "colab_type": "code",
        "outputId": "380a4513-8503-48dc-cc11-4a6d6b2424f0",
        "colab": {
          "base_uri": "https://localhost:8080/",
          "height": 1374
        }
      },
      "cell_type": "code",
      "source": [
        "print(\"Correct Predictions\")\n",
        "count = 0;\n",
        "for i in range(len(x_test)):\n",
        "  if(preds[i]==y_test[i] and count != 5):\n",
        "    plt.imshow(x_test[i])\n",
        "    count +=1\n",
        "    print(\"Acutual: {}, Prediction: {}\".format(y_test[i],preds[i]))\n",
        "    plt.show()"
      ],
      "execution_count": 37,
      "outputs": [
        {
          "output_type": "stream",
          "text": [
            "Correct Predictions\n",
            "Acutual: [3], Prediction: 3\n"
          ],
          "name": "stdout"
        },
        {
          "output_type": "display_data",
          "data": {
            "image/png": "[encoded data removed]",
            "text/plain": [
              "<Figure size 432x288 with 1 Axes>"
            ]
          },
          "metadata": {
            "tags": []
          }
        },
        {
          "output_type": "stream",
          "text": [
            "Acutual: [8], Prediction: 8\n"
          ],
          "name": "stdout"
        },
        {
          "output_type": "display_data",
          "data": {
            "image/png": "[encoded data removed]",
            "text/plain": [
              "<Figure size 432x288 with 1 Axes>"
            ]
          },
          "metadata": {
            "tags": []
          }
        },
        {
          "output_type": "stream",
          "text": [
            "Acutual: [8], Prediction: 8\n"
          ],
          "name": "stdout"
        },
        {
          "output_type": "display_data",
          "data": {
            "image/png": "[encoded data removed]",
            "text/plain": [
              "<Figure size 432x288 with 1 Axes>"
            ]
          },
          "metadata": {
            "tags": []
          }
        },
        {
          "output_type": "stream",
          "text": [
            "Acutual: [0], Prediction: 0\n"
          ],
          "name": "stdout"
        },
        {
          "output_type": "display_data",
          "data": {
            "image/png": "[encoded data removed]",
            "text/plain": [
              "<Figure size 432x288 with 1 Axes>"
            ]
          },
          "metadata": {
            "tags": []
          }
        },
        {
          "output_type": "stream",
          "text": [
            "Acutual: [6], Prediction: 6\n"
          ],
          "name": "stdout"
        },
        {
          "output_type": "display_data",
          "data": {
            "image/png": "[encoded data removed]",
            "text/plain": [
              "<Figure size 432x288 with 1 Axes>"
            ]
          },
          "metadata": {
            "tags": []
          }
        }
      ]
    },
    {
      "metadata": {
        "id": "8m7SaCMIOkor",
        "colab_type": "code",
        "outputId": "86af6594-f7c2-44cc-cb21-d79f90c8055c",
        "colab": {
          "base_uri": "https://localhost:8080/",
          "height": 634
        }
      },
      "cell_type": "code",
      "source": [
        "model.summary()"
      ],
      "execution_count": 38,
      "outputs": [
        {
          "output_type": "stream",
          "text": [
            "_________________________________________________________________\n",
            "Layer (type)                 Output Shape              Param #   \n",
            "=================================================================\n",
            "conv2d_9 (Conv2D)            (None, 30, 30, 96)        2688      \n",
            "_________________________________________________________________\n",
            "activation_11 (Activation)   (None, 30, 30, 96)        0         \n",
            "_________________________________________________________________\n",
            "conv2d_10 (Conv2D)           (None, 14, 14, 96)        83040     \n",
            "_________________________________________________________________\n",
            "activation_12 (Activation)   (None, 14, 14, 96)        0         \n",
            "_________________________________________________________________\n",
            "dropout_5 (Dropout)          (None, 14, 14, 96)        0         \n",
            "_________________________________________________________________\n",
            "conv2d_11 (Conv2D)           (None, 12, 12, 192)       166080    \n",
            "_________________________________________________________________\n",
            "activation_13 (Activation)   (None, 12, 12, 192)       0         \n",
            "_________________________________________________________________\n",
            "dropout_6 (Dropout)          (None, 12, 12, 192)       0         \n",
            "_________________________________________________________________\n",
            "flatten_3 (Flatten)          (None, 27648)             0         \n",
            "_________________________________________________________________\n",
            "batch_normalization_3 (Batch (None, 27648)             110592    \n",
            "_________________________________________________________________\n",
            "dense_5 (Dense)              (None, 256)               7078144   \n",
            "_________________________________________________________________\n",
            "activation_14 (Activation)   (None, 256)               0         \n",
            "_________________________________________________________________\n",
            "dense_6 (Dense)              (None, 10)                2570      \n",
            "=================================================================\n",
            "Total params: 7,443,114\n",
            "Trainable params: 7,387,818\n",
            "Non-trainable params: 55,296\n",
            "_________________________________________________________________\n"
          ],
          "name": "stdout"
        }
      ]
    },
    {
      "metadata": {
        "id": "SaC8Ep6FSMqc",
        "colab_type": "code",
        "colab": {}
      },
      "cell_type": "code",
      "source": [
        ""
      ],
      "execution_count": 0,
      "outputs": []
    }
  ]
}