{
  "nbformat": 4,
  "nbformat_minor": 0,
  "metadata": {
    "colab": {
      "name": "Keras CIFAR100 with regularizer.ipynb",
      "version": "0.3.2",
      "provenance": [],
      "collapsed_sections": [],
      "include_colab_link": true
    },
    "kernelspec": {
      "name": "python3",
      "display_name": "Python 3"
    },
    "accelerator": "GPU"
  },
  "cells": [
    {
      "cell_type": "markdown",
      "metadata": {
        "id": "view-in-github",
        "colab_type": "text"
      },
      "source": [
        "<a href=\"https://colab.research.google.com/github/anupamtamrakar/Machine-learning/blob/master/Keras_CIFAR100_with_regularizer.ipynb\" target=\"_parent\"><img src=\"https://colab.research.google.com/assets/colab-badge.svg\" alt=\"Open In Colab\"/></a>"
      ]
    },
    {
      "metadata": {
        "id": "RjUYvnGQ_z9c",
        "colab_type": "code",
        "colab": {}
      },
      "cell_type": "code",
      "source": [
        "from keras.datasets import cifar100\n",
        "from keras.models import Sequential\n",
        "from keras.layers import Dense, Activation,Dropout,Conv2D,Flatten,BatchNormalization\n",
        "from keras.utils import to_categorical\n",
        "from keras.regularizers import l2\n",
        "import numpy as np\n",
        "import pandas as pd\n",
        "import matplotlib.pyplot as plt\n",
        "\n",
        "%matplotlib inline"
      ],
      "execution_count": 0,
      "outputs": []
    },
    {
      "metadata": {
        "id": "gXz5cbT4__Zf",
        "colab_type": "code",
        "colab": {
          "base_uri": "https://localhost:8080/",
          "height": 54
        },
        "outputId": "e5c22896-356f-4353-b295-c3480765d46e"
      },
      "cell_type": "code",
      "source": [
        "(x_train, y_train), (x_test, y_test) = cifar100.load_data()"
      ],
      "execution_count": 124,
      "outputs": [
        {
          "output_type": "stream",
          "text": [
            "Downloading data from https://www.cs.toronto.edu/~kriz/cifar-100-python.tar.gz\n",
            "169009152/169001437 [==============================] - 255s 2us/step\n"
          ],
          "name": "stdout"
        }
      ]
    },
    {
      "metadata": {
        "id": "YHsUafC9AM_6",
        "colab_type": "code",
        "colab": {
          "base_uri": "https://localhost:8080/",
          "height": 92
        },
        "outputId": "d2ce7ea5-0e69-49f0-a1c4-8d3dee2e1e09"
      },
      "cell_type": "code",
      "source": [
        "print(\"Shape of x_train: \" + str(x_train.shape))\n",
        "print(\"Shape of x_test: \" + str(x_test.shape))\n",
        "print(\"Shape of y_test: \" + str(y_test.shape))\n",
        "print(\"Shape of y_train: \" + str(y_train.shape))"
      ],
      "execution_count": 126,
      "outputs": [
        {
          "output_type": "stream",
          "text": [
            "Shape of x_train: (50000, 32, 32, 3)\n",
            "Shape of x_test: (10000, 32, 32, 3)\n",
            "Shape of y_test: (10000, 1)\n",
            "Shape of y_train: (50000, 1)\n"
          ],
          "name": "stdout"
        }
      ]
    },
    {
      "metadata": {
        "id": "--kN69hhArmZ",
        "colab_type": "code",
        "colab": {}
      },
      "cell_type": "code",
      "source": [
        "#x_train = x_train / 255\n",
        "#x_test = x_test / 255"
      ],
      "execution_count": 0,
      "outputs": []
    },
    {
      "metadata": {
        "id": "Hln7DwGWBgKh",
        "colab_type": "code",
        "colab": {}
      },
      "cell_type": "code",
      "source": [
        "#x_train = x_train.reshape(50000,3072)\n",
        "#x_test = x_test.reshape(10000,3072)\n",
        "one_hot_labels = to_categorical(y_train, num_classes=100)"
      ],
      "execution_count": 0,
      "outputs": []
    },
    {
      "metadata": {
        "id": "h92XbP_iBiTy",
        "colab_type": "code",
        "colab": {}
      },
      "cell_type": "code",
      "source": [
        "model = Sequential()\n",
        "regularizer = l2(0.0001)"
      ],
      "execution_count": 0,
      "outputs": []
    },
    {
      "metadata": {
        "id": "ddO6DOyxCZPo",
        "colab_type": "code",
        "colab": {}
      },
      "cell_type": "code",
      "source": [
        "model.add(Conv2D(input_shape=x_train[0,:,:,:].shape, filters=96, kernel_size=(3,3)))\n",
        "model.add(Activation('relu'))\n",
        "model.add(Conv2D(filters=96, kernel_size=(3,3), strides=2,kernel_regularizer=regularizer))\n",
        "model.add(Activation('relu'))\n",
        "model.add(Dropout(0.2))\n",
        "model.add(Conv2D(filters=192, kernel_size=(3,3),kernel_regularizer=regularizer))\n",
        "model.add(Activation('relu'))\n",
        "model.add(Conv2D(filters=192, kernel_size=(3,3), strides=2,kernel_regularizer=regularizer))\n",
        "model.add(Activation('relu'))\n",
        "model.add(Dropout(0.5))\n",
        "model.add(Flatten())\n",
        "model.add(BatchNormalization())\n",
        "model.add(Dense(256))\n",
        "model.add(Activation('relu'))\n",
        "model.add(Dense(100, activation=\"softmax\"))"
      ],
      "execution_count": 0,
      "outputs": []
    },
    {
      "metadata": {
        "id": "RLpt0VbaDOpz",
        "colab_type": "code",
        "colab": {}
      },
      "cell_type": "code",
      "source": [
        "model.compile('Adam',loss='categorical_crossentropy',metrics=['accuracy'])"
      ],
      "execution_count": 0,
      "outputs": []
    },
    {
      "metadata": {
        "id": "VwKfwZhQDQLo",
        "colab_type": "code",
        "colab": {
          "base_uri": "https://localhost:8080/",
          "height": 784
        },
        "outputId": "b8356abd-16c0-49a9-d465-c23b54f73fb8"
      },
      "cell_type": "code",
      "source": [
        "model.fit(x=x_train,y=one_hot_labels,batch_size=256,epochs=20,shuffle=True)"
      ],
      "execution_count": 144,
      "outputs": [
        {
          "output_type": "stream",
          "text": [
            "Epoch 1/20\n",
            "50000/50000 [==============================] - 36s 718us/step - loss: 4.1710 - acc: 0.0803\n",
            "Epoch 2/20\n",
            "50000/50000 [==============================] - 33s 663us/step - loss: 3.6203 - acc: 0.1556\n",
            "Epoch 3/20\n",
            "50000/50000 [==============================] - 33s 658us/step - loss: 3.3026 - acc: 0.2088\n",
            "Epoch 4/20\n",
            "50000/50000 [==============================] - 33s 658us/step - loss: 3.0353 - acc: 0.2624\n",
            "Epoch 5/20\n",
            "50000/50000 [==============================] - 33s 663us/step - loss: 2.8408 - acc: 0.3014\n",
            "Epoch 6/20\n",
            "50000/50000 [==============================] - 33s 659us/step - loss: 2.6812 - acc: 0.3324\n",
            "Epoch 7/20\n",
            "50000/50000 [==============================] - 33s 661us/step - loss: 2.5334 - acc: 0.3645\n",
            "Epoch 8/20\n",
            "50000/50000 [==============================] - 22s 447us/step - loss: 2.3923 - acc: 0.3938\n",
            "Epoch 9/20\n",
            "50000/50000 [==============================] - 18s 354us/step - loss: 2.2889 - acc: 0.4129\n",
            "Epoch 10/20\n",
            "50000/50000 [==============================] - 18s 353us/step - loss: 2.1816 - acc: 0.4360\n",
            "Epoch 11/20\n",
            "50000/50000 [==============================] - 18s 352us/step - loss: 2.0734 - acc: 0.4619\n",
            "Epoch 12/20\n",
            "50000/50000 [==============================] - 18s 355us/step - loss: 2.0040 - acc: 0.4763\n",
            "Epoch 13/20\n",
            "50000/50000 [==============================] - 18s 353us/step - loss: 1.9229 - acc: 0.4953\n",
            "Epoch 14/20\n",
            "50000/50000 [==============================] - 18s 354us/step - loss: 1.8484 - acc: 0.5132\n",
            "Epoch 15/20\n",
            "50000/50000 [==============================] - 19s 383us/step - loss: 1.7761 - acc: 0.5288\n",
            "Epoch 16/20\n",
            "50000/50000 [==============================] - 19s 381us/step - loss: 1.7521 - acc: 0.5337\n",
            "Epoch 17/20\n",
            "50000/50000 [==============================] - 18s 357us/step - loss: 1.6735 - acc: 0.5560\n",
            "Epoch 18/20\n",
            "50000/50000 [==============================] - 18s 356us/step - loss: 1.6153 - acc: 0.5689\n",
            "Epoch 19/20\n",
            "50000/50000 [==============================] - 19s 377us/step - loss: 1.5613 - acc: 0.5818\n",
            "Epoch 20/20\n",
            "50000/50000 [==============================] - 18s 355us/step - loss: 1.5172 - acc: 0.5939\n"
          ],
          "name": "stdout"
        },
        {
          "output_type": "execute_result",
          "data": {
            "text/plain": [
              "<keras.callbacks.History at 0x7f7127e322b0>"
            ]
          },
          "metadata": {
            "tags": []
          },
          "execution_count": 144
        }
      ]
    },
    {
      "metadata": {
        "id": "hu1-pSmuLYvZ",
        "colab_type": "code",
        "colab": {}
      },
      "cell_type": "code",
      "source": [
        "one_hot_labels_test = to_categorical(y_test, num_classes=100)"
      ],
      "execution_count": 0,
      "outputs": []
    },
    {
      "metadata": {
        "id": "HnHwylFOEIRm",
        "colab_type": "code",
        "colab": {
          "base_uri": "https://localhost:8080/",
          "height": 54
        },
        "outputId": "2b342691-a148-4d6d-ceec-e0ab60ba5bc8"
      },
      "cell_type": "code",
      "source": [
        "model.evaluate(x=x_test,y=one_hot_labels_test,batch_size=128,verbose=1)"
      ],
      "execution_count": 146,
      "outputs": [
        {
          "output_type": "stream",
          "text": [
            "10000/10000 [==============================] - 2s 180us/step\n"
          ],
          "name": "stdout"
        },
        {
          "output_type": "execute_result",
          "data": {
            "text/plain": [
              "[2.516938566970825, 0.4209]"
            ]
          },
          "metadata": {
            "tags": []
          },
          "execution_count": 146
        }
      ]
    },
    {
      "metadata": {
        "id": "rcOMH9AqHCA7",
        "colab_type": "code",
        "colab": {}
      },
      "cell_type": "code",
      "source": [
        "predictions = model.predict(x=x_test,batch_size=32)"
      ],
      "execution_count": 0,
      "outputs": []
    },
    {
      "metadata": {
        "id": "UFagg1pRMZ8U",
        "colab_type": "code",
        "colab": {}
      },
      "cell_type": "code",
      "source": [
        "preds = np.argmax(predictions,axis=1)\n",
        "corr = preds == y_test"
      ],
      "execution_count": 0,
      "outputs": []
    },
    {
      "metadata": {
        "id": "3788UvTbMbZ4",
        "colab_type": "code",
        "colab": {
          "base_uri": "https://localhost:8080/",
          "height": 285
        },
        "outputId": "c55ef851-eb69-436b-82b2-79b2ce32bdee"
      },
      "cell_type": "code",
      "source": [
        "index = 9\n",
        "plt.imshow(x_test[index])\n",
        "print(\"Acutual: {}, Prediction: {}\".format(y_test[index],preds[index]))"
      ],
      "execution_count": 149,
      "outputs": [
        {
          "output_type": "stream",
          "text": [
            "Acutual: [0], Prediction: 57\n"
          ],
          "name": "stdout"
        },
        {
          "output_type": "display_data",
          "data": {
            "image/png": "[encoded data removed]",
            "text/plain": [
              "<Figure size 432x288 with 1 Axes>"
            ]
          },
          "metadata": {
            "tags": []
          }
        }
      ]
    },
    {
      "metadata": {
        "id": "mVQyfhCONWVx",
        "colab_type": "code",
        "colab": {
          "base_uri": "https://localhost:8080/",
          "height": 1374
        },
        "outputId": "4b0ff7d7-f32c-4244-e50d-08474937e961"
      },
      "cell_type": "code",
      "source": [
        "print(\"Correct Predictions\")\n",
        "count = 0;\n",
        "for i in range(len(x_test)):\n",
        "  if(preds[i]==y_test[i] and count != 5):\n",
        "    plt.imshow(x_test[i])\n",
        "    count +=1\n",
        "    print(\"Acutual: {}, Prediction: {}\".format(y_test[i],preds[i]))\n",
        "    plt.show()"
      ],
      "execution_count": 150,
      "outputs": [
        {
          "output_type": "stream",
          "text": [
            "Correct Predictions\n",
            "Acutual: [49], Prediction: 49\n"
          ],
          "name": "stdout"
        },
        {
          "output_type": "display_data",
          "data": {
            "image/png": "[encoded data removed]",
            "text/plain": [
              "<Figure size 432x288 with 1 Axes>"
            ]
          },
          "metadata": {
            "tags": []
          }
        },
        {
          "output_type": "stream",
          "text": [
            "Acutual: [33], Prediction: 33\n"
          ],
          "name": "stdout"
        },
        {
          "output_type": "display_data",
          "data": {
            "image/png": "[encoded data removed]",
            "text/plain": [
              "<Figure size 432x288 with 1 Axes>"
            ]
          },
          "metadata": {
            "tags": []
          }
        },
        {
          "output_type": "stream",
          "text": [
            "Acutual: [51], Prediction: 51\n"
          ],
          "name": "stdout"
        },
        {
          "output_type": "display_data",
          "data": {
            "image/png": "[encoded data removed]",
            "text/plain": [
              "<Figure size 432x288 with 1 Axes>"
            ]
          },
          "metadata": {
            "tags": []
          }
        },
        {
          "output_type": "stream",
          "text": [
            "Acutual: [71], Prediction: 71\n"
          ],
          "name": "stdout"
        },
        {
          "output_type": "display_data",
          "data": {
            "image/png": "[encoded data removed]",
            "text/plain": [
              "<Figure size 432x288 with 1 Axes>"
            ]
          },
          "metadata": {
            "tags": []
          }
        },
        {
          "output_type": "stream",
          "text": [
            "Acutual: [75], Prediction: 75\n"
          ],
          "name": "stdout"
        },
        {
          "output_type": "display_data",
          "data": {
            "image/png": "[encoded data removed]",
            "text/plain": [
              "<Figure size 432x288 with 1 Axes>"
            ]
          },
          "metadata": {
            "tags": []
          }
        }
      ]
    },
    {
      "metadata": {
        "id": "8m7SaCMIOkor",
        "colab_type": "code",
        "colab": {
          "base_uri": "https://localhost:8080/",
          "height": 709
        },
        "outputId": "1c5443c7-2eb9-40f8-fa9f-0d5739b5ab41"
      },
      "cell_type": "code",
      "source": [
        "model.summary()"
      ],
      "execution_count": 151,
      "outputs": [
        {
          "output_type": "stream",
          "text": [
            "_________________________________________________________________\n",
            "Layer (type)                 Output Shape              Param #   \n",
            "=================================================================\n",
            "conv2d_15 (Conv2D)           (None, 30, 30, 96)        2688      \n",
            "_________________________________________________________________\n",
            "activation_17 (Activation)   (None, 30, 30, 96)        0         \n",
            "_________________________________________________________________\n",
            "conv2d_16 (Conv2D)           (None, 14, 14, 96)        83040     \n",
            "_________________________________________________________________\n",
            "activation_18 (Activation)   (None, 14, 14, 96)        0         \n",
            "_________________________________________________________________\n",
            "dropout_8 (Dropout)          (None, 14, 14, 96)        0         \n",
            "_________________________________________________________________\n",
            "conv2d_17 (Conv2D)           (None, 12, 12, 192)       166080    \n",
            "_________________________________________________________________\n",
            "activation_19 (Activation)   (None, 12, 12, 192)       0         \n",
            "_________________________________________________________________\n",
            "conv2d_18 (Conv2D)           (None, 5, 5, 192)         331968    \n",
            "_________________________________________________________________\n",
            "activation_20 (Activation)   (None, 5, 5, 192)         0         \n",
            "_________________________________________________________________\n",
            "dropout_9 (Dropout)          (None, 5, 5, 192)         0         \n",
            "_________________________________________________________________\n",
            "flatten_4 (Flatten)          (None, 4800)              0         \n",
            "_________________________________________________________________\n",
            "batch_normalization_4 (Batch (None, 4800)              19200     \n",
            "_________________________________________________________________\n",
            "dense_48 (Dense)             (None, 256)               1229056   \n",
            "_________________________________________________________________\n",
            "activation_21 (Activation)   (None, 256)               0         \n",
            "_________________________________________________________________\n",
            "dense_49 (Dense)             (None, 100)               25700     \n",
            "=================================================================\n",
            "Total params: 1,857,732\n",
            "Trainable params: 1,848,132\n",
            "Non-trainable params: 9,600\n",
            "_________________________________________________________________\n"
          ],
          "name": "stdout"
        }
      ]
    },
    {
      "metadata": {
        "id": "SaC8Ep6FSMqc",
        "colab_type": "code",
        "colab": {}
      },
      "cell_type": "code",
      "source": [
        ""
      ],
      "execution_count": 0,
      "outputs": []
    }
  ]
}